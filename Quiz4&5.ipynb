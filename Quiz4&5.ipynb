{
 "cells": [
  {
   "cell_type": "code",
   "id": "6c09a9c1-0946-4ad2-ac5e-3f22d4b463d2",
   "metadata": {
    "ExecuteTime": {
     "end_time": "2025-06-27T16:58:08.022762Z",
     "start_time": "2025-06-27T16:58:07.723578Z"
    }
   },
   "source": [
    "import pandas as pd\n",
    "import sqlite3\n",
    "import matplotlib.pyplot as plt\n",
    "\n",
    "df = pd.read_csv('netflix_titles.csv')  \n",
    "df.head()\n"
   ],
   "outputs": [
    {
     "data": {
      "text/plain": [
       "  show_id     type                  title         director  \\\n",
       "0      s1    Movie   Dick Johnson Is Dead  Kirsten Johnson   \n",
       "1      s2  TV Show          Blood & Water              NaN   \n",
       "2      s3  TV Show              Ganglands  Julien Leclercq   \n",
       "3      s4  TV Show  Jailbirds New Orleans              NaN   \n",
       "4      s5  TV Show           Kota Factory              NaN   \n",
       "\n",
       "                                                cast        country  \\\n",
       "0                                                NaN  United States   \n",
       "1  Ama Qamata, Khosi Ngema, Gail Mabalane, Thaban...   South Africa   \n",
       "2  Sami Bouajila, Tracy Gotoas, Samuel Jouy, Nabi...            NaN   \n",
       "3                                                NaN            NaN   \n",
       "4  Mayur More, Jitendra Kumar, Ranjan Raj, Alam K...          India   \n",
       "\n",
       "           date_added  release_year rating   duration  \\\n",
       "0  September 25, 2021          2020  PG-13     90 min   \n",
       "1  September 24, 2021          2021  TV-MA  2 Seasons   \n",
       "2  September 24, 2021          2021  TV-MA   1 Season   \n",
       "3  September 24, 2021          2021  TV-MA   1 Season   \n",
       "4  September 24, 2021          2021  TV-MA  2 Seasons   \n",
       "\n",
       "                                           listed_in  \\\n",
       "0                                      Documentaries   \n",
       "1    International TV Shows, TV Dramas, TV Mysteries   \n",
       "2  Crime TV Shows, International TV Shows, TV Act...   \n",
       "3                             Docuseries, Reality TV   \n",
       "4  International TV Shows, Romantic TV Shows, TV ...   \n",
       "\n",
       "                                         description  \n",
       "0  As her father nears the end of his life, filmm...  \n",
       "1  After crossing paths at a party, a Cape Town t...  \n",
       "2  To protect his family from a powerful drug lor...  \n",
       "3  Feuds, flirtations and toilet talk go down amo...  \n",
       "4  In a city of coaching centers known to train I...  "
      ],
      "text/html": [
       "<div>\n",
       "<style scoped>\n",
       "    .dataframe tbody tr th:only-of-type {\n",
       "        vertical-align: middle;\n",
       "    }\n",
       "\n",
       "    .dataframe tbody tr th {\n",
       "        vertical-align: top;\n",
       "    }\n",
       "\n",
       "    .dataframe thead th {\n",
       "        text-align: right;\n",
       "    }\n",
       "</style>\n",
       "<table border=\"1\" class=\"dataframe\">\n",
       "  <thead>\n",
       "    <tr style=\"text-align: right;\">\n",
       "      <th></th>\n",
       "      <th>show_id</th>\n",
       "      <th>type</th>\n",
       "      <th>title</th>\n",
       "      <th>director</th>\n",
       "      <th>cast</th>\n",
       "      <th>country</th>\n",
       "      <th>date_added</th>\n",
       "      <th>release_year</th>\n",
       "      <th>rating</th>\n",
       "      <th>duration</th>\n",
       "      <th>listed_in</th>\n",
       "      <th>description</th>\n",
       "    </tr>\n",
       "  </thead>\n",
       "  <tbody>\n",
       "    <tr>\n",
       "      <th>0</th>\n",
       "      <td>s1</td>\n",
       "      <td>Movie</td>\n",
       "      <td>Dick Johnson Is Dead</td>\n",
       "      <td>Kirsten Johnson</td>\n",
       "      <td>NaN</td>\n",
       "      <td>United States</td>\n",
       "      <td>September 25, 2021</td>\n",
       "      <td>2020</td>\n",
       "      <td>PG-13</td>\n",
       "      <td>90 min</td>\n",
       "      <td>Documentaries</td>\n",
       "      <td>As her father nears the end of his life, filmm...</td>\n",
       "    </tr>\n",
       "    <tr>\n",
       "      <th>1</th>\n",
       "      <td>s2</td>\n",
       "      <td>TV Show</td>\n",
       "      <td>Blood &amp; Water</td>\n",
       "      <td>NaN</td>\n",
       "      <td>Ama Qamata, Khosi Ngema, Gail Mabalane, Thaban...</td>\n",
       "      <td>South Africa</td>\n",
       "      <td>September 24, 2021</td>\n",
       "      <td>2021</td>\n",
       "      <td>TV-MA</td>\n",
       "      <td>2 Seasons</td>\n",
       "      <td>International TV Shows, TV Dramas, TV Mysteries</td>\n",
       "      <td>After crossing paths at a party, a Cape Town t...</td>\n",
       "    </tr>\n",
       "    <tr>\n",
       "      <th>2</th>\n",
       "      <td>s3</td>\n",
       "      <td>TV Show</td>\n",
       "      <td>Ganglands</td>\n",
       "      <td>Julien Leclercq</td>\n",
       "      <td>Sami Bouajila, Tracy Gotoas, Samuel Jouy, Nabi...</td>\n",
       "      <td>NaN</td>\n",
       "      <td>September 24, 2021</td>\n",
       "      <td>2021</td>\n",
       "      <td>TV-MA</td>\n",
       "      <td>1 Season</td>\n",
       "      <td>Crime TV Shows, International TV Shows, TV Act...</td>\n",
       "      <td>To protect his family from a powerful drug lor...</td>\n",
       "    </tr>\n",
       "    <tr>\n",
       "      <th>3</th>\n",
       "      <td>s4</td>\n",
       "      <td>TV Show</td>\n",
       "      <td>Jailbirds New Orleans</td>\n",
       "      <td>NaN</td>\n",
       "      <td>NaN</td>\n",
       "      <td>NaN</td>\n",
       "      <td>September 24, 2021</td>\n",
       "      <td>2021</td>\n",
       "      <td>TV-MA</td>\n",
       "      <td>1 Season</td>\n",
       "      <td>Docuseries, Reality TV</td>\n",
       "      <td>Feuds, flirtations and toilet talk go down amo...</td>\n",
       "    </tr>\n",
       "    <tr>\n",
       "      <th>4</th>\n",
       "      <td>s5</td>\n",
       "      <td>TV Show</td>\n",
       "      <td>Kota Factory</td>\n",
       "      <td>NaN</td>\n",
       "      <td>Mayur More, Jitendra Kumar, Ranjan Raj, Alam K...</td>\n",
       "      <td>India</td>\n",
       "      <td>September 24, 2021</td>\n",
       "      <td>2021</td>\n",
       "      <td>TV-MA</td>\n",
       "      <td>2 Seasons</td>\n",
       "      <td>International TV Shows, Romantic TV Shows, TV ...</td>\n",
       "      <td>In a city of coaching centers known to train I...</td>\n",
       "    </tr>\n",
       "  </tbody>\n",
       "</table>\n",
       "</div>"
      ]
     },
     "execution_count": 23,
     "metadata": {},
     "output_type": "execute_result"
    }
   ],
   "execution_count": 23
  },
  {
   "cell_type": "code",
   "id": "2316df27-2f7a-4636-8b51-dc3f34b0d592",
   "metadata": {
    "ExecuteTime": {
     "end_time": "2025-06-27T16:58:09.042217Z",
     "start_time": "2025-06-27T16:58:08.107697Z"
    }
   },
   "source": [
    "conn = sqlite3.connect('netflix.db')\n",
    "df.to_sql('netflix', conn, if_exists='replace', index=False)\n",
    "conn.commit()"
   ],
   "outputs": [],
   "execution_count": 24
  },
  {
   "cell_type": "code",
   "id": "17b04a44-7106-4a0a-8257-b65d55be0fb2",
   "metadata": {
    "ExecuteTime": {
     "end_time": "2025-06-27T16:58:09.153994Z",
     "start_time": "2025-06-27T16:58:09.120540Z"
    }
   },
   "source": [
    "#ეს ბრძანება ბაზიდან გვიჩვენებს ისეთი ფილმების სათაურს, ტიპს და გამოშვების წელს, \n",
    "#რომლების ტიპია \"Movie\" და 2015 წლის შემდეგაა გამოშვებული\n",
    "cursor = conn.cursor()\n",
    "cursor.execute(\"SELECT title, type, release_year FROM netflix WHERE type = 'Movie' AND release_year > 2015\")\n",
    "rows = cursor.fetchall()\n",
    "for row in rows[:5]:\n",
    "    print(row)"
   ],
   "outputs": [
    {
     "name": "stdout",
     "output_type": "stream",
     "text": [
      "('Dick Johnson Is Dead', 'Movie', 2020)\n",
      "('My Little Pony: A New Generation', 'Movie', 2021)\n",
      "('The Starling', 'Movie', 2021)\n",
      "('Je Suis Karl', 'Movie', 2021)\n",
      "('Confessions of an Invisible Girl', 'Movie', 2021)\n"
     ]
    }
   ],
   "execution_count": 25
  },
  {
   "cell_type": "code",
   "id": "bdc5dea9-c7e6-42c5-8f41-7db521a9666d",
   "metadata": {
    "ExecuteTime": {
     "end_time": "2025-06-27T16:58:43.367706Z",
     "start_time": "2025-06-27T16:58:09.226950Z"
    }
   },
   "source": [
    "#ბრძანების მეშვეობით მომხმარებელს შემოაქვს ფილმის სახელი, ტიპი, გამოშვების წელი, რეიტინგი, შემდეგ კი ეს ინფორმაცია ემატება ბაზაში.\n",
    "\n",
    "your_title = input('შეიყვანეთ თქვენთვის სასურველი სათაური')\n",
    "your_type = input(\"შეიყვანეთ ტიპი 'Movie' ან 'TV show'\")\n",
    "your_release_year = input(\"შეიყვანეთ გამოშვების წელი\")\n",
    "your_rating = input(\"შეიყვანეთ რეიტინგი\")\n",
    "cursor.execute(\"INSERT INTO netflix (title, type, release_year, rating) VALUES (?, ?, ?, ?)\", (your_title, your_type, your_release_year, your_rating))\n",
    "conn.commit()\n",
    "print(\"ჩანაწერი წარმატებით დაემატა ბაზაში!\")"
   ],
   "outputs": [
    {
     "name": "stdout",
     "output_type": "stream",
     "text": [
      "ჩანაწერი წარმატებით დაემატა ბაზაში!\n"
     ]
    }
   ],
   "execution_count": 26
  },
  {
   "cell_type": "code",
   "id": "02abf1ad-4894-49f4-a272-51a0fb899fe7",
   "metadata": {
    "ExecuteTime": {
     "end_time": "2025-06-27T16:58:52.542122Z",
     "start_time": "2025-06-27T16:58:43.389481Z"
    }
   },
   "source": [
    "#ბრძანება სერიალს 'Blood & Water' უცვლის რეიტინგს\n",
    "new_rating = input(\"შემოიტანეთ განახლებული რეიტინგი\")\n",
    "\n",
    "cursor.execute(\"UPDATE netflix SET rating = ? WHERE title = ?\", ('new_rating', 'Blood & Water'))\n",
    "conn.commit()\n",
    "print('სერიალის რეიტინგი განახლებულია')"
   ],
   "outputs": [
    {
     "name": "stdout",
     "output_type": "stream",
     "text": [
      "სერიალის რეიტინგი განახლებულია\n"
     ]
    }
   ],
   "execution_count": 27
  },
  {
   "cell_type": "code",
   "id": "4cfacfdb-48ea-4a40-b389-404a1f7fd805",
   "metadata": {
    "ExecuteTime": {
     "end_time": "2025-06-27T16:58:52.604326Z",
     "start_time": "2025-06-27T16:58:52.594056Z"
    }
   },
   "source": [
    "#ბრძანება შლის მომხმარებლის მიერ შემოტანილ ფილმს და მის ინფორმაციას\n",
    "cursor.execute(\"DELETE FROM netflix WHERE title = ?\", ('your_title',))\n",
    "conn.commit()"
   ],
   "outputs": [],
   "execution_count": 28
  },
  {
   "cell_type": "code",
   "id": "ca19cfdc-df81-4e18-bfe6-46f35e97129f",
   "metadata": {
    "ExecuteTime": {
     "end_time": "2025-06-27T16:58:52.830685Z",
     "start_time": "2025-06-27T16:58:52.679765Z"
    }
   },
   "source": [
    "#დიაგრამის სახით ფილმებისა და სერიალების რაოდენობას გვიჩვენებს\n",
    "df['type'].value_counts().plot(kind='bar', color=['skyblue', 'orange'])\n",
    "plt.title('Movies vs TV Shows')\n",
    "plt.ylabel('Count')\n",
    "plt.show()"
   ],
   "outputs": [
    {
     "data": {
      "text/plain": [
       "<Figure size 640x480 with 1 Axes>"
      ],
      "image/png": "[encoded data removed]"
     },
     "metadata": {},
     "output_type": "display_data"
    }
   ],
   "execution_count": 29
  },
  {
   "cell_type": "code",
   "id": "11ad2f8d-4246-4903-88c5-8e4edce212d2",
   "metadata": {
    "ExecuteTime": {
     "end_time": "2025-06-27T16:58:53.009084Z",
     "start_time": "2025-06-27T16:58:52.850416Z"
    }
   },
   "source": [
    "#ფილმების რაოდენობა გამოშვების წლების მიხედვით\n",
    "df['release_year'].hist(bins=20, color='green')\n",
    "plt.title('Content by Release Year')\n",
    "plt.xlabel('Year')\n",
    "plt.ylabel('Count')\n",
    "plt.show()"
   ],
   "outputs": [
    {
     "data": {
      "text/plain": [
       "<Figure size 640x480 with 1 Axes>"
      ],
      "image/png": "[encoded data removed]"
     },
     "metadata": {},
     "output_type": "display_data"
    }
   ],
   "execution_count": 30
  },
  {
   "cell_type": "code",
   "id": "c13920c6-007f-407c-9c13-f7faa2ab99c5",
   "metadata": {
    "ExecuteTime": {
     "end_time": "2025-06-27T16:58:53.219780Z",
     "start_time": "2025-06-27T16:58:53.028236Z"
    }
   },
   "source": [
    "#ფილმების რაოდენობა ქვეყნების მიხედვით\n",
    "df['country'].value_counts().head(10).plot(kind='barh', color='purple')\n",
    "plt.title('Top 10 Countries by Content Count')\n",
    "plt.xlabel('Count')\n",
    "plt.gca().invert_yaxis()\n",
    "plt.show()"
   ],
   "outputs": [
    {
     "data": {
      "text/plain": [
       "<Figure size 640x480 with 1 Axes>"
      ],
      "image/png": "[encoded data removed]"
     },
     "metadata": {},
     "output_type": "display_data"
    }
   ],
   "execution_count": 31
  },
  {
   "cell_type": "code",
   "id": "ba3c9d15-0451-4278-8c88-7bd67414154c",
   "metadata": {
    "ExecuteTime": {
     "end_time": "2025-06-27T16:58:53.254793Z",
     "start_time": "2025-06-27T16:58:53.250177Z"
    }
   },
   "source": [
    "cursor.close()\n",
    "conn.close()"
   ],
   "outputs": [],
   "execution_count": 32
  }
 ],
 "metadata": {
  "kernelspec": {
   "display_name": "Python 3 (ipykernel)",
   "language": "python",
   "name": "python3"
  },
  "language_info": {
   "codemirror_mode": {
    "name": "ipython",
    "version": 3
   },
   "file_extension": ".py",
   "mimetype": "text/x-python",
   "name": "python",
   "nbconvert_exporter": "python",
   "pygments_lexer": "ipython3",
   "version": "3.13.3"
  }
 },
 "nbformat": 4,
 "nbformat_minor": 5
}
